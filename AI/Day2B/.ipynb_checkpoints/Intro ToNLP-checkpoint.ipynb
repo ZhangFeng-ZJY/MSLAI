{
 "cells": [
  {
   "cell_type": "markdown",
   "id": "44347b2c",
   "metadata": {},
   "source": [
    "# Natural Language Processing"
   ]
  },
  {
   "cell_type": "markdown",
   "id": "8b56c4aa",
   "metadata": {},
   "source": [
    "## Sentiment Analysis"
   ]
  },
  {
   "cell_type": "code",
   "execution_count": 90,
   "id": "9e0c4986",
   "metadata": {},
   "outputs": [
    {
     "name": "stdout",
     "output_type": "stream",
     "text": [
      "['happy', 'good', 'great']\n"
     ]
    }
   ],
   "source": [
    "positive_words = ['happy','good','great']\n",
    "print(positive_words)"
   ]
  },
  {
   "cell_type": "markdown",
   "id": "1d3f18ce",
   "metadata": {},
   "source": [
    "Now we're going a couple sentences that we are going to check the sentiment on."
   ]
  },
  {
   "cell_type": "code",
   "execution_count": 91,
   "id": "fc66292f",
   "metadata": {},
   "outputs": [
    {
     "name": "stdout",
     "output_type": "stream",
     "text": [
      "THe sum was good and it made me happy\n",
      "THe rain was bad witch made me sad\n"
     ]
    }
   ],
   "source": [
    "sentence1 = 'THe sum was good and it made me happy'\n",
    "sentence2 = 'THe rain was bad witch made me sad'\n",
    "print(sentence1)\n",
    "print(sentence2)"
   ]
  },
  {
   "cell_type": "code",
   "execution_count": 92,
   "id": "91658711",
   "metadata": {},
   "outputs": [
    {
     "name": "stdout",
     "output_type": "stream",
     "text": [
      "0\n",
      "0\n"
     ]
    }
   ],
   "source": [
    "positive_score_sentence1 = 0\n",
    "positive_score_sentence2 = 0\n",
    "print(positive_score_sentence1)\n",
    "print(positive_score_sentence2)"
   ]
  },
  {
   "cell_type": "markdown",
   "id": "9fc81b44",
   "metadata": {},
   "source": [
    "Now we need to loop through the word list to check if that word is in the sentence"
   ]
  },
  {
   "cell_type": "code",
   "execution_count": 93,
   "id": "d40cb686",
   "metadata": {},
   "outputs": [],
   "source": [
    "for word in positive_words:\n",
    "    if word in sentence1:\n",
    "        positive_score_sentence1 = positive_score_sentence1  + 1\n",
    "    \n",
    "    if word in sentence2:\n",
    "        positive_score_sentence2 = positive_score_sentence2 + 1"
   ]
  },
  {
   "cell_type": "code",
   "execution_count": 94,
   "id": "d0bd774b",
   "metadata": {},
   "outputs": [
    {
     "name": "stdout",
     "output_type": "stream",
     "text": [
      "The positive score for sentence 1 is: 2\n",
      "The positive score for sentence 2 is: 0\n"
     ]
    }
   ],
   "source": [
    "print(\"The positive score for sentence 1 is: \" + str(positive_score_sentence1))\n",
    "print(\"The positive score for sentence 2 is: \" + str(positive_score_sentence2))"
   ]
  },
  {
   "cell_type": "markdown",
   "id": "846c891c",
   "metadata": {},
   "source": [
    "Give a list of negative words, create a negative sentiment score for both sentence."
   ]
  },
  {
   "cell_type": "code",
   "execution_count": 95,
   "id": "6061ec2f",
   "metadata": {},
   "outputs": [],
   "source": [
    "negative_words = ['sad','bad','awful']"
   ]
  },
  {
   "cell_type": "code",
   "execution_count": 96,
   "id": "8087e4b5",
   "metadata": {},
   "outputs": [],
   "source": [
    "negative_score_sentence1 = 0\n",
    "negative_score_sentence2 = 0"
   ]
  },
  {
   "cell_type": "code",
   "execution_count": 97,
   "id": "388e3fd7",
   "metadata": {},
   "outputs": [],
   "source": [
    "for word in negative_words:\n",
    "    if word in sentence1:\n",
    "        negative_score_sentence1 = negative_score_sentence1  + 1\n",
    "    \n",
    "    if word in sentence2:\n",
    "        negative_score_sentence2 = negative_score_sentence2 + 1"
   ]
  },
  {
   "cell_type": "code",
   "execution_count": 98,
   "id": "22df82f4",
   "metadata": {},
   "outputs": [
    {
     "name": "stdout",
     "output_type": "stream",
     "text": [
      "The negative score for sentence 1 is: 0\n",
      "The negative score for sentence 2 is: 2\n"
     ]
    }
   ],
   "source": [
    "print(\"The negative score for sentence 1 is: \" + str(negative_score_sentence1))\n",
    "print(\"The negative score for sentence 2 is: \" + str(negative_score_sentence2))"
   ]
  },
  {
   "cell_type": "markdown",
   "id": "d7546001",
   "metadata": {},
   "source": [
    "## Tokenization"
   ]
  },
  {
   "cell_type": "code",
   "execution_count": 99,
   "id": "7211eefe",
   "metadata": {},
   "outputs": [],
   "source": [
    "greeting = 'Hello I am ZhangF'"
   ]
  },
  {
   "cell_type": "code",
   "execution_count": 100,
   "id": "770ee308",
   "metadata": {},
   "outputs": [
    {
     "name": "stdout",
     "output_type": "stream",
     "text": [
      "['Hello', 'I', 'am', 'ZhangF']\n",
      "['hello', 'i', 'am', 'zhangf']\n"
     ]
    }
   ],
   "source": [
    "tokenized_greeting = greeting.split(' ')\n",
    "print(tokenized_greeting)\n",
    "tokenized_greeting = [word.lower() for word in tokenized_greeting]\n",
    "print(tokenized_greeting)"
   ]
  },
  {
   "cell_type": "markdown",
   "id": "b337c5fd",
   "metadata": {},
   "source": [
    "## Stop Word Removal"
   ]
  },
  {
   "cell_type": "code",
   "execution_count": 101,
   "id": "25e53e3e",
   "metadata": {},
   "outputs": [
    {
     "name": "stdout",
     "output_type": "stream",
     "text": [
      "The cat sat on a cactus and it got hurt\n"
     ]
    }
   ],
   "source": [
    "sentence = \"The cat sat on a cactus and it got hurt\"\n",
    "print(sentence)"
   ]
  },
  {
   "cell_type": "code",
   "execution_count": 102,
   "id": "23880da2",
   "metadata": {},
   "outputs": [
    {
     "name": "stdout",
     "output_type": "stream",
     "text": [
      "['the', 'a', 'and', 'it']\n"
     ]
    }
   ],
   "source": [
    "stop_words = ['the','a','and','it']\n",
    "print(stop_words)"
   ]
  },
  {
   "cell_type": "code",
   "execution_count": 103,
   "id": "3572727c",
   "metadata": {},
   "outputs": [
    {
     "name": "stdout",
     "output_type": "stream",
     "text": [
      "['the', 'cat', 'sat', 'on', 'a', 'cactus', 'and', 'it', 'got', 'hurt']\n"
     ]
    }
   ],
   "source": [
    "sentence = sentence.split(' ')\n",
    "sentence = [word.lower() for word in sentence]\n",
    "print(sentence)"
   ]
  },
  {
   "cell_type": "code",
   "execution_count": 104,
   "id": "d69b34c9",
   "metadata": {},
   "outputs": [],
   "source": [
    "new_sentence = []"
   ]
  },
  {
   "cell_type": "code",
   "execution_count": 105,
   "id": "9921e470",
   "metadata": {},
   "outputs": [
    {
     "name": "stdout",
     "output_type": "stream",
     "text": [
      "['cat', 'sat', 'on', 'cactus', 'got', 'hurt']\n"
     ]
    }
   ],
   "source": [
    "for word in sentence:\n",
    "    if word not in stop_words:\n",
    "        new_sentence.append(word)\n",
    "        \n",
    "print(new_sentence)"
   ]
  },
  {
   "cell_type": "markdown",
   "id": "52f2183d",
   "metadata": {},
   "source": [
    "## Word Embedding"
   ]
  },
  {
   "cell_type": "code",
   "execution_count": 106,
   "id": "932eaa98",
   "metadata": {},
   "outputs": [],
   "source": [
    "pos_words = ['happy','good','great']\n",
    "neg_words = ['sad','bad','awful']"
   ]
  },
  {
   "cell_type": "code",
   "execution_count": 107,
   "id": "1b0a4624",
   "metadata": {},
   "outputs": [],
   "source": [
    "sentence1 = 'I am happy that it is a good day today'\n",
    "sentence2 = 'I am sad that it was a bad day'"
   ]
  },
  {
   "cell_type": "code",
   "execution_count": 108,
   "id": "a454f94d",
   "metadata": {},
   "outputs": [],
   "source": [
    "sentence1 = sentence1.split(' ')\n",
    "sentence2 = sentence2.split(' ')"
   ]
  },
  {
   "cell_type": "code",
   "execution_count": 109,
   "id": "8ab5cccf",
   "metadata": {},
   "outputs": [],
   "source": [
    "sentence1 = [word.lower() for word in sentence1]\n",
    "sentence2 = [word.lower() for word in sentence2]"
   ]
  },
  {
   "cell_type": "code",
   "execution_count": 110,
   "id": "c1a7c2ce",
   "metadata": {},
   "outputs": [
    {
     "name": "stdout",
     "output_type": "stream",
     "text": [
      "['i', 'am', 'happy', 'that', 'it', 'is', 'a', 'good', 'day', 'today']\n",
      "[0, 0, 1, 0, 0, 0, 0, 1, 0, 0]\n"
     ]
    }
   ],
   "source": [
    "new_sentence1 = []\n",
    "for word in sentence1:\n",
    "    new_word = word\n",
    "    if word in pos_words:\n",
    "        new_word = 1\n",
    "    elif word in neg_words:\n",
    "        new_word = -1\n",
    "    else:\n",
    "        new_word = 0\n",
    "    new_sentence1.append(new_word)\n",
    "    \n",
    "print(sentence1)\n",
    "print(new_sentence1)"
   ]
  },
  {
   "cell_type": "code",
   "execution_count": 111,
   "id": "ad09108a",
   "metadata": {},
   "outputs": [
    {
     "name": "stdout",
     "output_type": "stream",
     "text": [
      "['i', 'am', 'sad', 'that', 'it', 'was', 'a', 'bad', 'day']\n",
      "[0, 0, -1, 0, 0, 0, 0, -1, 0]\n"
     ]
    }
   ],
   "source": [
    "new_sentence2 = []\n",
    "for word in sentence2:\n",
    "    new_word = word\n",
    "    if word in pos_words:\n",
    "        new_word = 1\n",
    "    elif word in neg_words:\n",
    "        new_word = -1\n",
    "    else:\n",
    "        new_word = 0\n",
    "    new_sentence2.append(new_word)\n",
    "    \n",
    "print(sentence2)\n",
    "print(new_sentence2)"
   ]
  },
  {
   "cell_type": "markdown",
   "id": "f5deedfa",
   "metadata": {},
   "source": [
    "## Training a sentiment analysis Model"
   ]
  },
  {
   "cell_type": "code",
   "execution_count": 181,
   "id": "1027346e",
   "metadata": {},
   "outputs": [],
   "source": [
    "sentences = [\n",
    "    'The sun was good which made me happy.',\n",
    "    'The rain was bad which made me sad.',\n",
    "    'It was a bad day today, the weather was awful.',\n",
    "    'It was a good day today, the weather was great.',\n",
    "    'Its a good day today',\n",
    "    'Its a bad day today',\n",
    "    'Good',\n",
    "    'Bad',\n",
    "    'Good day.',\n",
    "    'Bad day.',\n",
    "    'I am sad because it is an awful day out.'\n",
    "]\n",
    "labels = [1,-1,-1,1,1,-1,1,-1,1,-1,-1]"
   ]
  },
  {
   "cell_type": "code",
   "execution_count": 182,
   "id": "f79cdf0d",
   "metadata": {},
   "outputs": [
    {
     "name": "stdout",
     "output_type": "stream",
     "text": [
      "11\n",
      "11\n"
     ]
    }
   ],
   "source": [
    "print(len(sentences))\n",
    "print(len(labels))"
   ]
  },
  {
   "cell_type": "code",
   "execution_count": 183,
   "id": "45e168cb",
   "metadata": {},
   "outputs": [],
   "source": [
    "def tkn_sentences(sentences):\n",
    "    data = []\n",
    "    punctuation = [',','.']\n",
    "    for sent in sentences:\n",
    "        tkn_sent = sent.split(' ')\n",
    "        tkn_sent = [word.lower() for word in tkn_sent]\n",
    "        for punc in punctuation:\n",
    "            tkn_sent = [word.replace(punc,'') for word in tkn_sent]\n",
    "        data.append(tkn_sent)\n",
    "        \n",
    "    return data"
   ]
  },
  {
   "cell_type": "code",
   "execution_count": 184,
   "id": "04c88e5e",
   "metadata": {},
   "outputs": [
    {
     "name": "stdout",
     "output_type": "stream",
     "text": [
      "[['the', 'sun', 'was', 'good', 'which', 'made', 'me', 'happy'], ['the', 'rain', 'was', 'bad', 'which', 'made', 'me', 'sad'], ['it', 'was', 'a', 'bad', 'day', 'today', 'the', 'weather', 'was', 'awful'], ['it', 'was', 'a', 'good', 'day', 'today', 'the', 'weather', 'was', 'great'], ['its', 'a', 'good', 'day', 'today'], ['its', 'a', 'bad', 'day', 'today'], ['good'], ['bad'], ['good', 'day'], ['bad', 'day'], ['i', 'am', 'sad', 'because', 'it', 'is', 'an', 'awful', 'day', 'out']]\n"
     ]
    }
   ],
   "source": [
    "data = tkn_sentences(sentences)\n",
    "print(data)"
   ]
  },
  {
   "cell_type": "code",
   "execution_count": 185,
   "id": "0b3cf2b0",
   "metadata": {},
   "outputs": [],
   "source": [
    "stop_words = ['the', 'a', 'and', 'it', 'was', 'which']"
   ]
  },
  {
   "cell_type": "markdown",
   "id": "a4cfa288",
   "metadata": {},
   "source": [
    " a busy code"
   ]
  },
  {
   "cell_type": "code",
   "execution_count": 186,
   "id": "e7f79558",
   "metadata": {},
   "outputs": [],
   "source": [
    "def remove_stop_words(data):\n",
    "    data_cleaned = []\n",
    "    \n",
    "    for sent in data:\n",
    "        \n",
    "        new_sent = []\n",
    "        for word in sent:\n",
    "            if word not in stop_words:\n",
    "                new_sent.append(word)\n",
    "        data_cleaned.append(new_sent)\n",
    "    return data_cleaned\n",
    "    "
   ]
  },
  {
   "cell_type": "code",
   "execution_count": 187,
   "id": "43993270",
   "metadata": {},
   "outputs": [
    {
     "name": "stdout",
     "output_type": "stream",
     "text": [
      "[['sun', 'good', 'made', 'me', 'happy'], ['rain', 'bad', 'made', 'me', 'sad'], ['bad', 'day', 'today', 'weather', 'awful'], ['good', 'day', 'today', 'weather', 'great'], ['its', 'good', 'day', 'today'], ['its', 'bad', 'day', 'today'], ['good'], ['bad'], ['good', 'day'], ['bad', 'day'], ['i', 'am', 'sad', 'because', 'is', 'an', 'awful', 'day', 'out']]\n"
     ]
    }
   ],
   "source": [
    "data = remove_stop_words(data)\n",
    "print(data)"
   ]
  },
  {
   "cell_type": "code",
   "execution_count": 188,
   "id": "13dc5dc3",
   "metadata": {},
   "outputs": [],
   "source": [
    "def embed_sentence(data):\n",
    "    x = []\n",
    "    for sent in data:\n",
    "        embed_sent = []\n",
    "        for word in sent:\n",
    "            if word in pos_words:\n",
    "                word = 1\n",
    "            elif word in neg_words:\n",
    "                word = -1\n",
    "            else:\n",
    "                word = 0\n",
    "            embed_sent.append(word)\n",
    "        x.append(embed_sent)\n",
    "    return x    "
   ]
  },
  {
   "cell_type": "code",
   "execution_count": 189,
   "id": "a46ab273",
   "metadata": {},
   "outputs": [
    {
     "name": "stdout",
     "output_type": "stream",
     "text": [
      "[[0, 1, 0, 0, 1], [0, -1, 0, 0, -1], [-1, 0, 0, 0, -1], [1, 0, 0, 0, 1], [0, 1, 0, 0], [0, -1, 0, 0], [1], [-1], [1, 0], [-1, 0], [0, 0, -1, 0, 0, 0, -1, 0, 0]]\n"
     ]
    }
   ],
   "source": [
    "x = embed_sentence(data)\n",
    "print(x)"
   ]
  }
 ],
 "metadata": {
  "kernelspec": {
   "display_name": "Python 3 (ipykernel)",
   "language": "python",
   "name": "python3"
  },
  "language_info": {
   "codemirror_mode": {
    "name": "ipython",
    "version": 3
   },
   "file_extension": ".py",
   "mimetype": "text/x-python",
   "name": "python",
   "nbconvert_exporter": "python",
   "pygments_lexer": "ipython3",
   "version": "3.11.2"
  }
 },
 "nbformat": 4,
 "nbformat_minor": 5
}
