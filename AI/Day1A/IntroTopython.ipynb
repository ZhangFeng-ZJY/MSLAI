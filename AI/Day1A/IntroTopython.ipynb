{
 "cells": [
  {
   "cell_type": "code",
   "execution_count": 1,
   "id": "234fd49f",
   "metadata": {},
   "outputs": [
    {
     "name": "stdout",
     "output_type": "stream",
     "text": [
      "Hello World\n"
     ]
    }
   ],
   "source": [
    "print(\"Hello World\")"
   ]
  },
  {
   "cell_type": "markdown",
   "id": "170be8af",
   "metadata": {},
   "source": [
    "# Variables"
   ]
  },
  {
   "cell_type": "markdown",
   "id": "8bdcc2ff",
   "metadata": {},
   "source": [
    "A variable is something that stores information.a  "
   ]
  },
  {
   "cell_type": "code",
   "execution_count": 2,
   "id": "4ba1653e",
   "metadata": {},
   "outputs": [
    {
     "name": "stdout",
     "output_type": "stream",
     "text": [
      "24\n"
     ]
    }
   ],
   "source": [
    "age = 24 \n",
    "print(24)"
   ]
  },
  {
   "cell_type": "code",
   "execution_count": 3,
   "id": "5e1f6749",
   "metadata": {},
   "outputs": [],
   "source": [
    "years = 1\n",
    "newAge = age + years"
   ]
  },
  {
   "cell_type": "code",
   "execution_count": 4,
   "id": "a84abbae",
   "metadata": {},
   "outputs": [
    {
     "name": "stdout",
     "output_type": "stream",
     "text": [
      "24\n",
      "1\n",
      "25\n"
     ]
    }
   ],
   "source": [
    "print(age)\n",
    "print(years)\n",
    "print(newAge)"
   ]
  },
  {
   "cell_type": "markdown",
   "id": "d2c5bb4d",
   "metadata": {},
   "source": [
    "## Strings"
   ]
  },
  {
   "cell_type": "code",
   "execution_count": 5,
   "id": "5bde03c2",
   "metadata": {},
   "outputs": [
    {
     "name": "stdout",
     "output_type": "stream",
     "text": [
      "Zhang Feng\n"
     ]
    }
   ],
   "source": [
    "name = \"Zhang Feng\"\n",
    "print(name)"
   ]
  },
  {
   "cell_type": "code",
   "execution_count": 6,
   "id": "795dedb5",
   "metadata": {},
   "outputs": [
    {
     "name": "stdout",
     "output_type": "stream",
     "text": [
      "Hello Zhang Feng\n"
     ]
    }
   ],
   "source": [
    "greeting = \"Hello \" + name\n",
    "print(greeting)"
   ]
  },
  {
   "cell_type": "code",
   "execution_count": 7,
   "id": "4ccf0f9b",
   "metadata": {},
   "outputs": [
    {
     "name": "stdout",
     "output_type": "stream",
     "text": [
      "Hello Zhang Feng you are 24\n"
     ]
    }
   ],
   "source": [
    "ageString = str(age)\n",
    "greeting = \"Hello \" + name + \" you are \" + ageString\n",
    "print(greeting)"
   ]
  },
  {
   "cell_type": "markdown",
   "id": "caad739a",
   "metadata": {},
   "source": [
    "## Floating Point Number "
   ]
  },
  {
   "cell_type": "code",
   "execution_count": 8,
   "id": "721a4dea",
   "metadata": {},
   "outputs": [
    {
     "name": "stdout",
     "output_type": "stream",
     "text": [
      "150.6\n"
     ]
    }
   ],
   "source": [
    "weight = 150.6\n",
    "print(weight)"
   ]
  },
  {
   "cell_type": "code",
   "execution_count": 9,
   "id": "5ab29b19",
   "metadata": {},
   "outputs": [
    {
     "name": "stdout",
     "output_type": "stream",
     "text": [
      "160.6\n"
     ]
    }
   ],
   "source": [
    "extraPounds = 10\n",
    "newWeight = weight + extraPounds\n",
    "print(newWeight)"
   ]
  },
  {
   "cell_type": "code",
   "execution_count": 10,
   "id": "c438c06b",
   "metadata": {},
   "outputs": [
    {
     "name": "stdout",
     "output_type": "stream",
     "text": [
      "Hello Zhang Feng you put on 10 Pounds.\n",
      "You are now 160.6 pounds.\n"
     ]
    }
   ],
   "source": [
    "extraPoundsString = str(extraPounds)\n",
    "newWeightString = str(newWeight)\n",
    "\n",
    "greeting = \"Hello \" + name + \" you put on \" + extraPoundsString + \" Pounds.\"\n",
    "greeting2 = \"You are now \" + newWeightString + \" pounds.\"\n",
    "\n",
    "print(greeting)\n",
    "print(greeting2)"
   ]
  },
  {
   "cell_type": "code",
   "execution_count": 11,
   "id": "f06747ea",
   "metadata": {},
   "outputs": [
    {
     "name": "stdout",
     "output_type": "stream",
     "text": [
      "15\n"
     ]
    }
   ],
   "source": [
    "numStr = \"10\"\n",
    "numInt = int(numStr) + 5\n",
    "print(numInt)"
   ]
  },
  {
   "cell_type": "markdown",
   "id": "27c16d4f",
   "metadata": {},
   "source": [
    "## Bolean"
   ]
  },
  {
   "cell_type": "code",
   "execution_count": 12,
   "id": "26f2296f",
   "metadata": {},
   "outputs": [
    {
     "name": "stdout",
     "output_type": "stream",
     "text": [
      "True\n"
     ]
    }
   ],
   "source": [
    "isMale = True\n",
    "print(isMale)"
   ]
  },
  {
   "cell_type": "code",
   "execution_count": 13,
   "id": "65a6ce98",
   "metadata": {},
   "outputs": [
    {
     "name": "stdout",
     "output_type": "stream",
     "text": [
      "Here is the bollean if he is a nale: True\n"
     ]
    }
   ],
   "source": [
    "maleStr = \"Here is the bollean if he is a nale: \" + str(isMale)\n",
    "print(maleStr)"
   ]
  },
  {
   "cell_type": "markdown",
   "id": "a7ab4f60",
   "metadata": {},
   "source": [
    "## Lists"
   ]
  },
  {
   "cell_type": "code",
   "execution_count": 14,
   "id": "45f6dfba",
   "metadata": {},
   "outputs": [
    {
     "name": "stdout",
     "output_type": "stream",
     "text": [
      "['Red', 'Green', 'Purpls']\n"
     ]
    }
   ],
   "source": [
    "favoriteColors = [\"Red\", \"Green\", \"Purpls\"]\n",
    "print(favoriteColors)"
   ]
  },
  {
   "cell_type": "code",
   "execution_count": 15,
   "id": "405565f7",
   "metadata": {},
   "outputs": [
    {
     "name": "stdout",
     "output_type": "stream",
     "text": [
      "Red\n",
      "Green\n",
      "Purpls\n"
     ]
    }
   ],
   "source": [
    "print(favoriteColors[0])\n",
    "print(favoriteColors[1])\n",
    "print(favoriteColors[2])"
   ]
  },
  {
   "cell_type": "code",
   "execution_count": 16,
   "id": "78886b65",
   "metadata": {},
   "outputs": [
    {
     "name": "stdout",
     "output_type": "stream",
     "text": [
      "100\n"
     ]
    }
   ],
   "source": [
    "weights = [80, 100, 300]\n",
    "print(weights[1])"
   ]
  },
  {
   "cell_type": "code",
   "execution_count": 17,
   "id": "b2ab0567",
   "metadata": {},
   "outputs": [
    {
     "name": "stdout",
     "output_type": "stream",
     "text": [
      "The person's favourite color is Red . And he weighs 80 pounds.\n"
     ]
    }
   ],
   "source": [
    "print(\"The person's favourite color is \" + favoriteColors[0] + \" . And he weighs \" + str(weights[0]) + \" pounds.\")"
   ]
  },
  {
   "cell_type": "markdown",
   "id": "4e69c6f9",
   "metadata": {},
   "source": [
    "## Classes"
   ]
  },
  {
   "cell_type": "code",
   "execution_count": 18,
   "id": "42b5148b",
   "metadata": {},
   "outputs": [],
   "source": [
    "class Person():\n",
    "    name = ''\n",
    "    age = 0\n",
    "    weight = 0\n",
    "    isMale = False \n",
    "    Female = False"
   ]
  },
  {
   "cell_type": "code",
   "execution_count": 19,
   "id": "d333b7db",
   "metadata": {},
   "outputs": [],
   "source": [
    "tom_person = Person()\n",
    "tom_person.name = \"Tommy\"\n",
    "tom_person.age = \"22\"\n",
    "tom_person.weight = 160\n",
    "tom_person.isMale = True\n",
    "tom_person.isFeale = False "
   ]
  },
  {
   "cell_type": "code",
   "execution_count": 20,
   "id": "24e7f36d",
   "metadata": {},
   "outputs": [],
   "source": [
    "jess_person = Person()\n",
    "jess_person.name = 'Jessica'\n",
    "jess_person.age = 33 \n",
    "jess_person.weight = 100\n",
    "jess_person.isFemale = True"
   ]
  },
  {
   "cell_type": "code",
   "execution_count": 21,
   "id": "9e6fb10f",
   "metadata": {},
   "outputs": [
    {
     "name": "stdout",
     "output_type": "stream",
     "text": [
      "Tom is 22 years old.\n"
     ]
    }
   ],
   "source": [
    "tom_str = \"Tom is \" + str(tom_person.age) + \" years old.\" \n",
    "print(tom_str)"
   ]
  },
  {
   "cell_type": "code",
   "execution_count": 22,
   "id": "b396fe17",
   "metadata": {},
   "outputs": [
    {
     "name": "stdout",
     "output_type": "stream",
     "text": [
      "33\n"
     ]
    }
   ],
   "source": [
    "print(jess_person.age)"
   ]
  },
  {
   "cell_type": "code",
   "execution_count": 23,
   "id": "6044442e",
   "metadata": {},
   "outputs": [
    {
     "name": "stdout",
     "output_type": "stream",
     "text": [
      "150\n"
     ]
    }
   ],
   "source": [
    "tom_person.weight = 150\n",
    "print(tom_person.weight)"
   ]
  },
  {
   "cell_type": "markdown",
   "id": "8460afb1",
   "metadata": {},
   "source": [
    "## Comments"
   ]
  },
  {
   "cell_type": "code",
   "execution_count": 24,
   "id": "88dfb38b",
   "metadata": {},
   "outputs": [],
   "source": [
    "# I can type anything and python wont look it"
   ]
  },
  {
   "cell_type": "markdown",
   "id": "8f216c89",
   "metadata": {},
   "source": [
    "## If-Else Statements"
   ]
  },
  {
   "cell_type": "code",
   "execution_count": 25,
   "id": "32e1f4ab",
   "metadata": {},
   "outputs": [
    {
     "name": "stdout",
     "output_type": "stream",
     "text": [
      "False\n"
     ]
    }
   ],
   "source": [
    "print(jess_person.isMale)"
   ]
  },
  {
   "cell_type": "code",
   "execution_count": 26,
   "id": "51f5efd4",
   "metadata": {},
   "outputs": [
    {
     "name": "stdout",
     "output_type": "stream",
     "text": [
      "The person is female!\n"
     ]
    }
   ],
   "source": [
    "if jess_person.isMale:\n",
    "    print(\"The person is male!\")\n",
    "else:\n",
    "    print(\"The person is female!\")"
   ]
  },
  {
   "cell_type": "markdown",
   "id": "2018c7de",
   "metadata": {},
   "source": [
    "## Loop "
   ]
  },
  {
   "cell_type": "code",
   "execution_count": 27,
   "id": "f5f1c2ea",
   "metadata": {},
   "outputs": [
    {
     "name": "stdout",
     "output_type": "stream",
     "text": [
      "Red\n",
      "Green\n",
      "Purple\n"
     ]
    }
   ],
   "source": [
    "favoriteColors = [\"Red\", \"Green\", \"Purple\"]\n",
    "print(favoriteColors[0])\n",
    "print(favoriteColors[1])\n",
    "print(favoriteColors[2])"
   ]
  },
  {
   "cell_type": "code",
   "execution_count": 28,
   "id": "df7e19b6",
   "metadata": {},
   "outputs": [
    {
     "name": "stdout",
     "output_type": "stream",
     "text": [
      "Red\n",
      "Green\n",
      "Purple\n"
     ]
    }
   ],
   "source": [
    "for color in favoriteColors:\n",
    "    print(color)"
   ]
  },
  {
   "cell_type": "code",
   "execution_count": null,
   "id": "6d5a0505",
   "metadata": {},
   "outputs": [],
   "source": []
  }
 ],
 "metadata": {
  "kernelspec": {
   "display_name": "Python 3 (ipykernel)",
   "language": "python",
   "name": "python3"
  },
  "language_info": {
   "codemirror_mode": {
    "name": "ipython",
    "version": 3
   },
   "file_extension": ".py",
   "mimetype": "text/x-python",
   "name": "python",
   "nbconvert_exporter": "python",
   "pygments_lexer": "ipython3",
   "version": "3.11.2"
  }
 },
 "nbformat": 4,
 "nbformat_minor": 5
}
