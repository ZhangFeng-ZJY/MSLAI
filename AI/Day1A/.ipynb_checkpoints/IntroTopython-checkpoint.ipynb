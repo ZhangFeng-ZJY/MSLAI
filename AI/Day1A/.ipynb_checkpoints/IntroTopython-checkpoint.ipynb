{
 "cells": [
  {
   "cell_type": "code",
   "execution_count": 1,
   "id": "234fd49f",
   "metadata": {},
   "outputs": [
    {
     "name": "stdout",
     "output_type": "stream",
     "text": [
      "Hello World\n"
     ]
    }
   ],
   "source": [
    "print(\"Hello World\")"
   ]
  },
  {
   "cell_type": "markdown",
   "id": "170be8af",
   "metadata": {},
   "source": [
    "# Variables"
   ]
  },
  {
   "cell_type": "markdown",
   "id": "8bdcc2ff",
   "metadata": {},
   "source": [
    "A variable is something that stores information.a  "
   ]
  },
  {
   "cell_type": "code",
   "execution_count": 2,
   "id": "4ba1653e",
   "metadata": {},
   "outputs": [
    {
     "name": "stdout",
     "output_type": "stream",
     "text": [
      "24\n"
     ]
    }
   ],
   "source": [
    "age = 24 \n",
    "print(24)"
   ]
  },
  {
   "cell_type": "code",
   "execution_count": 3,
   "id": "5e1f6749",
   "metadata": {},
   "outputs": [],
   "source": [
    "years = 1\n",
    "newAge = age + years"
   ]
  },
  {
   "cell_type": "code",
   "execution_count": 5,
   "id": "a84abbae",
   "metadata": {},
   "outputs": [
    {
     "name": "stdout",
     "output_type": "stream",
     "text": [
      "24\n",
      "1\n",
      "25\n"
     ]
    }
   ],
   "source": [
    "print(age)\n",
    "print(years)\n",
    "print(newAge)"
   ]
  },
  {
   "cell_type": "markdown",
   "id": "d2c5bb4d",
   "metadata": {},
   "source": [
    "## Strings"
   ]
  },
  {
   "cell_type": "code",
   "execution_count": 6,
   "id": "5bde03c2",
   "metadata": {},
   "outputs": [
    {
     "name": "stdout",
     "output_type": "stream",
     "text": [
      "Zhang Feng\n"
     ]
    }
   ],
   "source": [
    "name = \"Zhang Feng\"\n",
    "print(name)"
   ]
  },
  {
   "cell_type": "code",
   "execution_count": 8,
   "id": "795dedb5",
   "metadata": {},
   "outputs": [
    {
     "name": "stdout",
     "output_type": "stream",
     "text": [
      "Hello Zhang Feng\n"
     ]
    }
   ],
   "source": [
    "greeting = \"Hello \" + name\n",
    "print(greeting)"
   ]
  },
  {
   "cell_type": "code",
   "execution_count": 9,
   "id": "4ccf0f9b",
   "metadata": {},
   "outputs": [
    {
     "name": "stdout",
     "output_type": "stream",
     "text": [
      "Hello Zhang Feng you are 24\n"
     ]
    }
   ],
   "source": [
    "ageString = str(age)\n",
    "greeting = \"Hello \" + name + \" you are \" + ageString\n",
    "print(greeting)"
   ]
  },
  {
   "cell_type": "markdown",
   "id": "caad739a",
   "metadata": {},
   "source": [
    "## Floating Point Number "
   ]
  },
  {
   "cell_type": "code",
   "execution_count": 11,
   "id": "721a4dea",
   "metadata": {},
   "outputs": [
    {
     "name": "stdout",
     "output_type": "stream",
     "text": [
      "150.6\n"
     ]
    }
   ],
   "source": [
    "weight = 150.6\n",
    "print(weight)"
   ]
  },
  {
   "cell_type": "code",
   "execution_count": 12,
   "id": "5ab29b19",
   "metadata": {},
   "outputs": [
    {
     "name": "stdout",
     "output_type": "stream",
     "text": [
      "160.6\n"
     ]
    }
   ],
   "source": [
    "extraPounds = 10\n",
    "newWeight = weight + extraPounds\n",
    "print(newWeight)"
   ]
  },
  {
   "cell_type": "code",
   "execution_count": 15,
   "id": "c438c06b",
   "metadata": {},
   "outputs": [
    {
     "name": "stdout",
     "output_type": "stream",
     "text": [
      "Hello Zhang Feng you put on 10 Pounds.\n",
      "You are now 160.6 pounds.\n"
     ]
    }
   ],
   "source": [
    "extraPoundsString = str(extraPounds)\n",
    "newWeightString = str(newWeight)\n",
    "\n",
    "greeting = \"Hello \" + name + \" you put on \" + extraPoundsString + \" Pounds.\"\n",
    "greeting2 = \"You are now \" + newWeightString + \" pounds.\"\n",
    "\n",
    "print(greeting)\n",
    "print(greeting2)"
   ]
  },
  {
   "cell_type": "code",
   "execution_count": 17,
   "id": "f06747ea",
   "metadata": {},
   "outputs": [
    {
     "name": "stdout",
     "output_type": "stream",
     "text": [
      "15\n"
     ]
    }
   ],
   "source": [
    "numStr = \"10\"\n",
    "numInt = int(numStr) + 5\n",
    "print(numInt)"
   ]
  },
  {
   "cell_type": "markdown",
   "id": "27c16d4f",
   "metadata": {},
   "source": [
    "## Bolean"
   ]
  },
  {
   "cell_type": "code",
   "execution_count": 18,
   "id": "26f2296f",
   "metadata": {},
   "outputs": [
    {
     "name": "stdout",
     "output_type": "stream",
     "text": [
      "True\n"
     ]
    }
   ],
   "source": [
    "isMale = True\n",
    "print(isMale)"
   ]
  },
  {
   "cell_type": "code",
   "execution_count": 21,
   "id": "65a6ce98",
   "metadata": {},
   "outputs": [
    {
     "name": "stdout",
     "output_type": "stream",
     "text": [
      "Here is the bollean if he is a nale: True\n"
     ]
    }
   ],
   "source": [
    "maleStr = \"Here is the bollean if he is a nale: \" + str(isMale)\n",
    "print(maleStr)"
   ]
  },
  {
   "cell_type": "markdown",
   "id": "a7ab4f60",
   "metadata": {},
   "source": [
    "## Lists"
   ]
  },
  {
   "cell_type": "code",
   "execution_count": 24,
   "id": "45f6dfba",
   "metadata": {},
   "outputs": [
    {
     "name": "stdout",
     "output_type": "stream",
     "text": [
      "['Red', 'Green', 'Purpls']\n"
     ]
    }
   ],
   "source": [
    "favoriteColors = [\"Red\", \"Green\", \"Purpls\"]\n",
    "print(favoriteColors)"
   ]
  },
  {
   "cell_type": "code",
   "execution_count": 26,
   "id": "405565f7",
   "metadata": {},
   "outputs": [
    {
     "name": "stdout",
     "output_type": "stream",
     "text": [
      "Red\n",
      "Green\n",
      "Purpls\n"
     ]
    }
   ],
   "source": [
    "print(favoriteColors[0])\n",
    "print(favoriteColors[1])\n",
    "print(favoriteColors[2])"
   ]
  },
  {
   "cell_type": "code",
   "execution_count": 27,
   "id": "78886b65",
   "metadata": {},
   "outputs": [
    {
     "name": "stdout",
     "output_type": "stream",
     "text": [
      "100\n"
     ]
    }
   ],
   "source": [
    "weights = [80, 100, 300]\n",
    "print(weights[1])"
   ]
  },
  {
   "cell_type": "code",
   "execution_count": 5,
   "id": "b2ab0567",
   "metadata": {},
   "outputs": [
    {
     "ename": "NameError",
     "evalue": "name 'favoriteColors' is not defined",
     "output_type": "error",
     "traceback": [
      "\u001b[0;31m---------------------------------------------------------------------------\u001b[0m",
      "\u001b[0;31mNameError\u001b[0m                                 Traceback (most recent call last)",
      "Cell \u001b[0;32mIn[5], line 1\u001b[0m\n\u001b[0;32m----> 1\u001b[0m \u001b[38;5;28mprint\u001b[39m(\u001b[38;5;124m\"\u001b[39m\u001b[38;5;124mThe person\u001b[39m\u001b[38;5;124m'\u001b[39m\u001b[38;5;124ms favourite color is \u001b[39m\u001b[38;5;124m\"\u001b[39m \u001b[38;5;241m+\u001b[39m \u001b[43mfavoriteColors\u001b[49m[\u001b[38;5;241m0\u001b[39m] \u001b[38;5;241m+\u001b[39m \u001b[38;5;124m\"\u001b[39m\u001b[38;5;124m . And he weighs \u001b[39m\u001b[38;5;124m\"\u001b[39m \u001b[38;5;241m+\u001b[39m \u001b[38;5;28mstr\u001b[39m(weights(\u001b[38;5;241m0\u001b[39m)) \u001b[38;5;241m+\u001b[39m \u001b[38;5;124m\"\u001b[39m\u001b[38;5;124m pounds.\u001b[39m\u001b[38;5;124m\"\u001b[39m)\n",
      "\u001b[0;31mNameError\u001b[0m: name 'favoriteColors' is not defined"
     ]
    }
   ],
   "source": [
    "print(\"The person's favourite color is \" + favoriteColors[0] + \" . And he weighs \" + str(weights(0)) + \" pounds.\")"
   ]
  },
  {
   "cell_type": "code",
   "execution_count": null,
   "id": "d9c8405a",
   "metadata": {},
   "outputs": [],
   "source": []
  }
 ],
 "metadata": {
  "kernelspec": {
   "display_name": "Python 3 (ipykernel)",
   "language": "python",
   "name": "python3"
  },
  "language_info": {
   "codemirror_mode": {
    "name": "ipython",
    "version": 3
   },
   "file_extension": ".py",
   "mimetype": "text/x-python",
   "name": "python",
   "nbconvert_exporter": "python",
   "pygments_lexer": "ipython3",
   "version": "3.11.2"
  }
 },
 "nbformat": 4,
 "nbformat_minor": 5
}
