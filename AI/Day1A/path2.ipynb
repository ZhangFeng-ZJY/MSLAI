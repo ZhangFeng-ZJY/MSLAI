{
 "cells": [
  {
   "cell_type": "markdown",
   "id": "29f17b02",
   "metadata": {},
   "source": [
    "## Challenge: Integers and Strings  "
   ]
  },
  {
   "cell_type": "code",
   "execution_count": 2,
   "id": "5a31340f",
   "metadata": {},
   "outputs": [
    {
     "name": "stdout",
     "output_type": "stream",
     "text": [
      "Here is an example, please enter a number: 42\n"
     ]
    }
   ],
   "source": [
    "example = input(\"Here is an example, please enter a number: \")"
   ]
  },
  {
   "cell_type": "code",
   "execution_count": 3,
   "id": "d4220bd6",
   "metadata": {},
   "outputs": [
    {
     "name": "stdout",
     "output_type": "stream",
     "text": [
      "42\n"
     ]
    }
   ],
   "source": [
    "print(example)"
   ]
  },
  {
   "cell_type": "code",
   "execution_count": null,
   "id": "62d34136",
   "metadata": {},
   "outputs": [],
   "source": []
  },
  {
   "cell_type": "code",
   "execution_count": 5,
   "id": "652f7bca",
   "metadata": {},
   "outputs": [
    {
     "name": "stdout",
     "output_type": "stream",
     "text": [
      "Please input you firstName:zhang\n",
      "Please input you lastName:feng\n",
      "Please input you age:18\n",
      "Hello zhangfeng ! You are 18 years old.\n"
     ]
    }
   ],
   "source": [
    "FirstQuestion = input(\"Please input you firstName:\")\n",
    "SecondQuestion = input(\"Please input you lastName:\")\n",
    "ThirdQuestion = input(\"Please input you age:\")\n",
    "print(\"Hello \" + FirstQuestion + SecondQuestion + \" ! You are \" + ThirdQuestion + \" years old.\")"
   ]
  },
  {
   "cell_type": "markdown",
   "id": "fd32a67f",
   "metadata": {},
   "source": [
    "# Challenge: Use Functions to Convert Celsius to Farenheit"
   ]
  },
  {
   "cell_type": "code",
   "execution_count": 10,
   "id": "dfd3801c",
   "metadata": {},
   "outputs": [],
   "source": [
    "def celsius_to_fahrenheit(celsius):    \n",
    "    fahrenheit = (celsius * 9/5) + 32\n",
    "    return fahrenheit"
   ]
  },
  {
   "cell_type": "code",
   "execution_count": 15,
   "id": "bd3a6451",
   "metadata": {},
   "outputs": [
    {
     "name": "stdout",
     "output_type": "stream",
     "text": [
      "That is hot\n"
     ]
    }
   ],
   "source": [
    "if celsius_to_fahrenheit(30) > 70:\n",
    "    print(\"That is hot\")\n",
    "else:\n",
    "    print(\"That is code\")"
   ]
  },
  {
   "cell_type": "code",
   "execution_count": null,
   "id": "6a8eb368",
   "metadata": {},
   "outputs": [],
   "source": []
  }
 ],
 "metadata": {
  "kernelspec": {
   "display_name": "Python 3 (ipykernel)",
   "language": "python",
   "name": "python3"
  },
  "language_info": {
   "codemirror_mode": {
    "name": "ipython",
    "version": 3
   },
   "file_extension": ".py",
   "mimetype": "text/x-python",
   "name": "python",
   "nbconvert_exporter": "python",
   "pygments_lexer": "ipython3",
   "version": "3.11.2"
  }
 },
 "nbformat": 4,
 "nbformat_minor": 5
}
